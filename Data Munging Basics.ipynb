{
 "cells": [
  {
   "cell_type": "code",
   "execution_count": 4,
   "metadata": {},
   "outputs": [
    {
     "name": "stdout",
     "output_type": "stream",
     "text": [
      "all set up 😎\n"
     ]
    }
   ],
   "source": [
    "import numpy as np\n",
    "import pandas as pd\n",
    "from pandas import Series, DataFrame\n",
    "\n",
    "print(\"all set up 😎\")"
   ]
  },
  {
   "cell_type": "code",
   "execution_count": 5,
   "metadata": {},
   "outputs": [],
   "source": [
    "### Filter and Data Selection"
   ]
  },
  {
   "cell_type": "code",
   "execution_count": 12,
   "metadata": {},
   "outputs": [
    {
     "data": {
      "text/plain": [
       "row 1    0\n",
       "row 2    1\n",
       "row 3    2\n",
       "row 4    3\n",
       "row 5    4\n",
       "row 6    5\n",
       "row 7    6\n",
       "row 8    7\n",
       "dtype: int64"
      ]
     },
     "execution_count": 12,
     "metadata": {},
     "output_type": "execute_result"
    }
   ],
   "source": [
    "my_obj = Series(np.arange(8), index=[\"row 1\", \"row 2\",\"row 3\",\"row 4\",\"row 5\",\"row 6\",\"row 7\",\"row 8\" ])\n",
    "my_obj"
   ]
  },
  {
   "cell_type": "code",
   "execution_count": 14,
   "metadata": {},
   "outputs": [
    {
     "data": {
      "text/plain": [
       "7"
      ]
     },
     "execution_count": 14,
     "metadata": {},
     "output_type": "execute_result"
    }
   ],
   "source": [
    "my_obj[\"row 8\"]"
   ]
  },
  {
   "cell_type": "code",
   "execution_count": 22,
   "metadata": {},
   "outputs": [
    {
     "data": {
      "text/html": [
       "<div>\n",
       "<style scoped>\n",
       "    .dataframe tbody tr th:only-of-type {\n",
       "        vertical-align: middle;\n",
       "    }\n",
       "\n",
       "    .dataframe tbody tr th {\n",
       "        vertical-align: top;\n",
       "    }\n",
       "\n",
       "    .dataframe thead th {\n",
       "        text-align: right;\n",
       "    }\n",
       "</style>\n",
       "<table border=\"1\" class=\"dataframe\">\n",
       "  <thead>\n",
       "    <tr style=\"text-align: right;\">\n",
       "      <th></th>\n",
       "      <th>0</th>\n",
       "      <th>1</th>\n",
       "      <th>2</th>\n",
       "      <th>3</th>\n",
       "      <th>4</th>\n",
       "      <th>5</th>\n",
       "    </tr>\n",
       "  </thead>\n",
       "  <tbody>\n",
       "    <tr>\n",
       "      <th>row 1</th>\n",
       "      <td>0.132421</td>\n",
       "      <td>0.766486</td>\n",
       "      <td>0.076742</td>\n",
       "      <td>0.331044</td>\n",
       "      <td>0.679852</td>\n",
       "      <td>0.509213</td>\n",
       "    </tr>\n",
       "    <tr>\n",
       "      <th>row 2</th>\n",
       "      <td>0.655146</td>\n",
       "      <td>0.602120</td>\n",
       "      <td>0.719055</td>\n",
       "      <td>0.415219</td>\n",
       "      <td>0.396542</td>\n",
       "      <td>0.825139</td>\n",
       "    </tr>\n",
       "    <tr>\n",
       "      <th>row 3</th>\n",
       "      <td>0.712552</td>\n",
       "      <td>0.097937</td>\n",
       "      <td>0.842154</td>\n",
       "      <td>0.440821</td>\n",
       "      <td>0.373989</td>\n",
       "      <td>0.913676</td>\n",
       "    </tr>\n",
       "    <tr>\n",
       "      <th>row 4</th>\n",
       "      <td>0.547778</td>\n",
       "      <td>0.251937</td>\n",
       "      <td>0.027474</td>\n",
       "      <td>0.206257</td>\n",
       "      <td>0.590885</td>\n",
       "      <td>0.163652</td>\n",
       "    </tr>\n",
       "    <tr>\n",
       "      <th>row 5</th>\n",
       "      <td>0.836928</td>\n",
       "      <td>0.775203</td>\n",
       "      <td>0.169041</td>\n",
       "      <td>0.766994</td>\n",
       "      <td>0.335366</td>\n",
       "      <td>0.472398</td>\n",
       "    </tr>\n",
       "    <tr>\n",
       "      <th>row 6</th>\n",
       "      <td>0.215064</td>\n",
       "      <td>0.912094</td>\n",
       "      <td>0.759208</td>\n",
       "      <td>0.676561</td>\n",
       "      <td>0.021376</td>\n",
       "      <td>0.660874</td>\n",
       "    </tr>\n",
       "  </tbody>\n",
       "</table>\n",
       "</div>"
      ],
      "text/plain": [
       "              0         1         2         3         4         5\n",
       "row 1  0.132421  0.766486  0.076742  0.331044  0.679852  0.509213\n",
       "row 2  0.655146  0.602120  0.719055  0.415219  0.396542  0.825139\n",
       "row 3  0.712552  0.097937  0.842154  0.440821  0.373989  0.913676\n",
       "row 4  0.547778  0.251937  0.027474  0.206257  0.590885  0.163652\n",
       "row 5  0.836928  0.775203  0.169041  0.766994  0.335366  0.472398\n",
       "row 6  0.215064  0.912094  0.759208  0.676561  0.021376  0.660874"
      ]
     },
     "execution_count": 22,
     "metadata": {},
     "output_type": "execute_result"
    }
   ],
   "source": [
    "myFrame = DataFrame(np.random.rand(36).reshape((6,6)), index=['row 1','row 2','row 3','row 4','row 5','row 6'])"
   ]
  },
  {
   "cell_type": "code",
   "execution_count": null,
   "metadata": {},
   "outputs": [],
   "source": [
    "### Data Slicing\n",
    "my_obj[\"row 3\": \"row \"]\n"
   ]
  }
 ],
 "metadata": {
  "kernelspec": {
   "display_name": "Python 3",
   "language": "python",
   "name": "python3"
  },
  "language_info": {
   "codemirror_mode": {
    "name": "ipython",
    "version": 3
   },
   "file_extension": ".py",
   "mimetype": "text/x-python",
   "name": "python",
   "nbconvert_exporter": "python",
   "pygments_lexer": "ipython3",
   "version": "3.7.1"
  }
 },
 "nbformat": 4,
 "nbformat_minor": 2
}
