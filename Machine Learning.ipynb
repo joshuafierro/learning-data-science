{
 "cells": [
  {
   "cell_type": "markdown",
   "metadata": {},
   "source": [
    "<h1>Dimensionality Reduction</h1>"
   ]
  },
  {
   "cell_type": "markdown",
   "metadata": {},
   "source": [
    "<h4>Types of Machine learning algorithms:</h4>"
   ]
  },
  {
   "cell_type": "markdown",
   "metadata": {},
   "source": [
    "   <ul>\n",
    "        <li>Deep Learning</li>\n",
    "        <li>Ensemble</li>\n",
    "        <li>Neural Networks</li>\n",
    "        <li>Regression</li>\n",
    "        <li>Decision Tree</li>\n",
    "        <li>Bayesian</li>\n",
    "        <li>Regularization</li>\n",
    "        <li>Rule System</li>\n",
    "        <li>Dimenstion Reduction</li>\n",
    "        <li>Instance Based</li>\n",
    "        <li>Clustering</li>\n",
    "    </ul>"
   ]
  },
  {
   "cell_type": "markdown",
   "metadata": {},
   "source": [
    "<h4>Supervised vs Unsupervised methods</h4>\n",
    "<h5>Supervised:</h5>\n",
    "    Making predictions based off labeled data\n",
    "<h5>Unsupervised</h5>\n",
    "    Making predictions based off unlabeled data"
   ]
  },
  {
   "cell_type": "markdown",
   "metadata": {},
   "source": [
    "<h4>Factor Analysis</h4>\n",
    "\n",
    "Regresssion method to find hidden root causes that explain why data is acting in a certain way\n",
    "Factors = variables that are quite meaningful but are inferred and not directly observerd \n",
    "\n",
    "Assumes factors are metric. Factors are continuous or ordinal. There is a r > 0.3. You have > 100 observations and > 5 observations per feature. Sample is homogenous "
   ]
  },
  {
   "cell_type": "code",
   "execution_count": null,
   "metadata": {},
   "outputs": [],
   "source": []
  }
 ],
 "metadata": {
  "kernelspec": {
   "display_name": "Python 3",
   "language": "python",
   "name": "python3"
  },
  "language_info": {
   "codemirror_mode": {
    "name": "ipython",
    "version": 3
   },
   "file_extension": ".py",
   "mimetype": "text/x-python",
   "name": "python",
   "nbconvert_exporter": "python",
   "pygments_lexer": "ipython3",
   "version": "3.7.1"
  }
 },
 "nbformat": 4,
 "nbformat_minor": 2
}
